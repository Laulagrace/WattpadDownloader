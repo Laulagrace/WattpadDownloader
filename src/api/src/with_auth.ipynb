{
 "cells": [
  {
   "cell_type": "code",
   "execution_count": 3,
   "metadata": {},
   "outputs": [],
   "source": [
    "from create_book import (\n",
    "    retrieve_story,\n",
    "    set_cover,\n",
    "    set_metadata,\n",
    "    add_chapters,\n",
    "    slugify,\n",
    "    wp_get_cookies,\n",
    "    fetch_part_content\n",
    ")"
   ]
  },
  {
   "cell_type": "code",
   "execution_count": 24,
   "metadata": {},
   "outputs": [
    {
     "name": "stdout",
     "output_type": "stream",
     "text": [
      " \n"
     ]
    },
    {
     "ename": "ValueError",
     "evalue": "No cookies.",
     "output_type": "error",
     "traceback": [
      "\u001b[0;31m---------------------------------------------------------------------------\u001b[0m",
      "\u001b[0;31mValueError\u001b[0m                                Traceback (most recent call last)",
      "Cell \u001b[0;32mIn[24], line 1\u001b[0m\n\u001b[0;32m----> 1\u001b[0m cookies \u001b[38;5;241m=\u001b[39m \u001b[38;5;28;01mawait\u001b[39;00m wp_get_cookies(username\u001b[38;5;241m=\u001b[39m\u001b[38;5;124m\"\u001b[39m\u001b[38;5;124m\"\u001b[39m, password\u001b[38;5;241m=\u001b[39m\u001b[38;5;124m\"\u001b[39m\u001b[38;5;124m\"\u001b[39m) \n",
      "Cell \u001b[0;32mIn[15], line 48\u001b[0m, in \u001b[0;36mwp_get_cookies\u001b[0;34m(username, password)\u001b[0m\n\u001b[1;32m     42\u001b[0m cookies \u001b[38;5;241m=\u001b[39m {\n\u001b[1;32m     43\u001b[0m     k: v\u001b[38;5;241m.\u001b[39mvalue\n\u001b[1;32m     44\u001b[0m     \u001b[38;5;28;01mfor\u001b[39;00m k, v \u001b[38;5;129;01min\u001b[39;00m response\u001b[38;5;241m.\u001b[39mcookies\u001b[38;5;241m.\u001b[39mitems()  \u001b[38;5;66;03m# Thanks https://stackoverflow.com/a/32281245\u001b[39;00m\n\u001b[1;32m     45\u001b[0m }\n\u001b[1;32m     47\u001b[0m \u001b[38;5;28;01mif\u001b[39;00m \u001b[38;5;129;01mnot\u001b[39;00m cookies:\n\u001b[0;32m---> 48\u001b[0m     \u001b[38;5;28;01mraise\u001b[39;00m \u001b[38;5;167;01mValueError\u001b[39;00m(\u001b[38;5;124m\"\u001b[39m\u001b[38;5;124mNo cookies.\u001b[39m\u001b[38;5;124m\"\u001b[39m)\n\u001b[1;32m     50\u001b[0m \u001b[38;5;28;01mreturn\u001b[39;00m cookies\n",
      "\u001b[0;31mValueError\u001b[0m: No cookies."
     ]
    }
   ],
   "source": [
    "cookies = await wp_get_cookies(username=\"\", password=\"\") "
   ]
  },
  {
   "cell_type": "code",
   "execution_count": 3,
   "metadata": {},
   "outputs": [
    {
     "data": {
      "text/plain": [
       "{'usprivacy': '',\n",
       " 'lang': '34',\n",
       " 'locale': 'en_US',\n",
       " 'wp_id': 'c890f1ce-3888-4f63-b75d-becfd6e56d41',\n",
       " 'token': '369518880%3A2%3A1719074105%3AgdSoKCmLBvVs71tpGeJPGETmGmDIdJYmltCbPeM6Awt990JYBUHqSPdOpMO1OVRD'}"
      ]
     },
     "execution_count": 3,
     "metadata": {},
     "output_type": "execute_result"
    }
   ],
   "source": [
    "cookies"
   ]
  },
  {
   "cell_type": "code",
   "execution_count": 6,
   "metadata": {},
   "outputs": [],
   "source": [
    "d = await retrieve_story(369237858, cookies=cookies)"
   ]
  },
  {
   "cell_type": "code",
   "execution_count": 7,
   "metadata": {},
   "outputs": [
    {
     "data": {
      "text/plain": [
       "{'id': '369237858',\n",
       " 'title': \"Of Rust and Gold [The Saints' Song Book 1]\",\n",
       " 'createDate': '2024-05-18T18:59:36Z',\n",
       " 'modifyDate': '2024-05-22T15:16:33Z',\n",
       " 'language': {'name': 'English'},\n",
       " 'user': {'username': 'Poindexter'},\n",
       " 'description': \"On the hunt for a cannibalistic living god, the last thing a politically ambitious prince has time for is the foul-mouthed pirate he can't stop thinking about.\\n\\n                                              *****\\n\\nAs ninth in line to the throne--and a legitimized royal bastard to boot--Prince Argus is desperate for the political power that will make the world see him as an equal to his brothers. A favor for a favor should get him everything he wants, but finding another prince's stolen ship and its stolen cargo means befriending his only lead on the theft: a captured pirate named Leonardo whose gruff and foul-mouthed exterior hides more than Argus bargained for. Because as illicit feelings begin to grow between them, Argus faces a harsh reality: he has to find the stolen ship, especially once he learns the stolen cargo is actually a cannibalistic living god, but Leo's life is forfeit the moment he outlives his usefulness unless Argus can find a way to get everything he wants without destroying his own reputation in the process.\",\n",
       " 'cover': 'https://img.wattpad.com/cover/369237858-256-k33577.jpg',\n",
       " 'completed': True,\n",
       " 'tags': ['adultfiction',\n",
       "  'fantasy',\n",
       "  'lgbt',\n",
       "  'lgbtfiction',\n",
       "  'mxm',\n",
       "  'wattpadoriginals'],\n",
       " 'mature': True,\n",
       " 'url': 'https://www.wattpad.com/story/369237858-of-rust-and-gold-the-saints%27-song-book-1',\n",
       " 'parts': [{'id': 1446920685, 'title': 'Chapter One'},\n",
       "  {'id': 1446920870, 'title': 'Chapter Two'},\n",
       "  {'id': 1446921060, 'title': 'Chapter Three'},\n",
       "  {'id': 1446921520, 'title': 'Chapter Four'},\n",
       "  {'id': 1446921985, 'title': 'Chapter Five'},\n",
       "  {'id': 1446922168, 'title': 'Chapter Six'},\n",
       "  {'id': 1446922577, 'title': 'Chapter Seven'},\n",
       "  {'id': 1446922727, 'title': 'Chapter Eight'},\n",
       "  {'id': 1446922924, 'title': 'Chapter Nine'},\n",
       "  {'id': 1446923091, 'title': 'Chapter Ten'},\n",
       "  {'id': 1446923213, 'title': 'Chapter Eleven'},\n",
       "  {'id': 1446923342, 'title': 'Chapter Twelve '},\n",
       "  {'id': 1446923497, 'title': 'Chapter Thirteen'},\n",
       "  {'id': 1446923638, 'title': 'Chapter Fourteen'},\n",
       "  {'id': 1446923837, 'title': 'Chapter Fifteen'},\n",
       "  {'id': 1446924035, 'title': 'Chapter Sixteen'},\n",
       "  {'id': 1446924197, 'title': 'Chapter Seventeen'},\n",
       "  {'id': 1446924353, 'title': 'Chapter Eighteen'},\n",
       "  {'id': 1446924476, 'title': 'Chapter Nineteen'},\n",
       "  {'id': 1446924627, 'title': 'Chapter Twenty'},\n",
       "  {'id': 1446924764, 'title': 'Chapter Twenty-One'},\n",
       "  {'id': 1446924970, 'title': 'Chapter Twenty-Two'},\n",
       "  {'id': 1446926217, 'title': 'Chapter Twenty-Three'},\n",
       "  {'id': 1446926420, 'title': 'Chapter Twenty-Four'},\n",
       "  {'id': 1446926619, 'title': 'Chapter Twenty-Five'},\n",
       "  {'id': 1446926784, 'title': 'Chapter Twenty-Six'},\n",
       "  {'id': 1446927026, 'title': 'Chapter Twenty-Seven'},\n",
       "  {'id': 1446927612, 'title': 'Chapter Twenty-Eight'},\n",
       "  {'id': 1446928721, 'title': 'Chapter Twenty-Nine'},\n",
       "  {'id': 1446929100, 'title': 'Chapter Thirty'},\n",
       "  {'id': 1446929317, 'title': 'Chapter Thirty-One'},\n",
       "  {'id': 1446929471, 'title': 'Chapter Thirty-Two'},\n",
       "  {'id': 1446929710, 'title': 'Chapter Thirty-Three'},\n",
       "  {'id': 1446930710, 'title': 'Chapter Thirty-Four'},\n",
       "  {'id': 1446931278, 'title': 'Chapter Thirty-Five'},\n",
       "  {'id': 1446931475, 'title': 'Chapter Thirty-Six'},\n",
       "  {'id': 1446931661, 'title': 'Chapter Thirty-Seven'},\n",
       "  {'id': 1446931857, 'title': 'Chapter Thirty-Eight'},\n",
       "  {'id': 1446932020, 'title': 'Chapter Thirty-Nine'},\n",
       "  {'id': 1446932205, 'title': 'Chapter Forty'},\n",
       "  {'id': 1446932335, 'title': 'Chapter Forty-One'}],\n",
       " 'isPaywalled': True}"
      ]
     },
     "execution_count": 7,
     "metadata": {},
     "output_type": "execute_result"
    }
   ],
   "source": [
    "d"
   ]
  },
  {
   "cell_type": "code",
   "execution_count": 8,
   "metadata": {},
   "outputs": [
    {
     "data": {
      "text/plain": [
       "1446920685"
      ]
     },
     "execution_count": 8,
     "metadata": {},
     "output_type": "execute_result"
    }
   ],
   "source": [
    "d['parts'][0]['id']"
   ]
  },
  {
   "cell_type": "code",
   "execution_count": 14,
   "metadata": {},
   "outputs": [
    {
     "data": {
      "text/plain": [
       "{'usprivacy': '',\n",
       " 'lang': '34',\n",
       " 'locale': 'en_US',\n",
       " 'wp_id': 'c890f1ce-3888-4f63-b75d-becfd6e56d41',\n",
       " 'token': '369518880%3A2%3A1719074105%3AgdSoKCmLBvVs71tpGeJPGETmGmDIdJYmltCbPeM6Awt990JYBUHqSPdOpMO1OVRD'}"
      ]
     },
     "execution_count": 14,
     "metadata": {},
     "output_type": "execute_result"
    }
   ],
   "source": [
    "cookies"
   ]
  },
  {
   "cell_type": "code",
   "execution_count": 13,
   "metadata": {},
   "outputs": [
    {
     "data": {
      "text/plain": [
       "'<p data-p-id=\"fb195658a08a48e18c55c8e041cf07bd\">This story is part of the Paid Stories program, a selection of exclusive stories that help support Wattpad writers. <a href=\"https://my.w.tt/1CugQ53VB7\">Click here</a> to continue reading on the Wattpad app.<br></p>\\n<p data-p-id=\"fb195658a08a48e18c55c8e041cf07bd\">Esta historia pertenece al programa de Historias Pagadas, una selección exclusiva de historias con las que apoyas a escritores de Wattpad. <a href=\"https://my.w.tt/1CugQ53VB7\">Da click aquí</a> para seguir leyendo en la aplicación.<br><br></p>\\n<p data-media-type=\"image\" data-image-layout=\"one-horizontal\" data-p-id=\"c525e05b7f45fbf2a48971162963f17c\"><img style=\"background-color: initial;\" data-original-width=\"706\" data-original-height=\"192\" src=\"https://s3.amazonaws.com/in-app-purchase-content-public/wordmark.png\"></p>\\n'"
      ]
     },
     "execution_count": 13,
     "metadata": {},
     "output_type": "execute_result"
    }
   ],
   "source": [
    "await fetch_part_content(1446923091, cookies=cookies)"
   ]
  },
  {
   "cell_type": "code",
   "execution_count": 12,
   "metadata": {},
   "outputs": [],
   "source": [
    "from aiohttp import ClientSession"
   ]
  },
  {
   "cell_type": "code",
   "execution_count": 16,
   "metadata": {},
   "outputs": [],
   "source": [
    "headers = {\n",
    "    \"user-agent\": \"Mozilla/5.0 (Windows NT 10.0; Win64; x64) AppleWebKit/537.36 (KHTML, like Gecko) Chrome/103.0.0.0 Safari/537.36\",\n",
    "}"
   ]
  },
  {
   "cell_type": "code",
   "execution_count": 19,
   "metadata": {},
   "outputs": [
    {
     "name": "stdout",
     "output_type": "stream",
     "text": [
      "<p data-p-id=\"faa20ecdcbd7df748793c033cd8d1db3\"><b>10. If The Sea Could Talk</b></p><p data-p-id=\"a2850cad7d5beb26e0d9d11b9f736a64\">Leo was getting tired of running while fear scorched his lungs. He didn't stop until the brothel was far behind him, until Mel's dragging weight made him stumble and Mung stopped ahead of them to brace the side of a building and catch his breath. He wiped sweaty clumps of hair from his eyes. \"Gods forgive me.\"</p><p data-p-id=\"2e33bd54ce316ad475d9b16eeec00725\">Leo threw Mel in front of him. She gripped on tightly to her small sword, still holding it out as if she didn't want it to touch her. The metal was stained red with tiny droplets. </p><p data-p-id=\"a4eb12ef4409e123308fddb1d8e278e4\">\"Why did you cut his ear off!\" </p><p data-p-id=\"d2c898bea78b70ff2718bf811c0499d2\">She flinched. </p><p data-p-id=\"de2a63d35bbbafe783327287606a590b\">They would have been alright, better off at least, if they'd let Engli scream his head off trying to remove his ax from the floor. It was a chance to leave without too much trouble. Now Leo had left one crewmate with an injured nose and another without an ear. It wasn't supposed to be personal, but Dunham would see it that way. It would make the accusation of mutiny much worse.  </p><p data-p-id=\"b93ffc684474a6c9de8c7d68a87a502e\">\"I don't know!\" Mel shook her head, holding her hands up in confusion. \"It seemed like a good idea.\"</p><p data-p-id=\"9c47599b289ef5394c0740435871cca8\">He brushed past her. Damn kid was going to get him killed. But at least she wasn't crouched over and heaving like she'd never run a day in her life. In daylight, Mung looked skinnier. Frail. He clutched his chest and gulped air at dizzying speeds. Leo slammed his hand down on his shoulder. He shuddered beneath him.</p><p data-p-id=\"9a5ca2d19b1cb3d93cba897459367c41\">\"How long have you been watching us?\"</p><p data-p-id=\"7b26b8df3892fc36cd084c70ff4ae89d\">\"I...\" Mung trembled, dark eyes growing wide as he looked up at him. \"It was just for insurance. Redbeat wanted to make sure you didn't reveal our interest in...I didn't know—\"</p><p data-p-id=\"661bc775da6cd5ea58173e6304662d51\">\"We're good. I know where Dunham's going and you got yer proof so let's get out of here.\"</p><p data-p-id=\"4d0af72d410464768837044d055436fa\">Mung blinked. His eyes wandered past Leo. To Mel. To the road. Off in the distance towards the brothel. They narrowed and his lips twisted in puzzlement. \"But—\"</p><p data-p-id=\"252e9a1ecf6730e174ca5f8c6b5f2f7f\">\"Let's go.\" Leo nodded back the way they came. Engli wasn't going to stay occupied forever. </p><p data-p-id=\"66bd91b49c9d98b06fb14cae3a5305cd\">\"Right.\" Mung nodded. \"Let's go.\"</p><p data-p-id=\"8a7ab20ec0ab3262ce329c7dcb399a4e\">***</p><p data-p-id=\"2ae7c52e0c9dec8c94b032166002a9c3\">Captain Redbeat's ship stood out just as much as she did. The wood was a bruised red, the sails off-white in color, small and narrow. Built more for speed than anything, and aptly named <i>The Cutter</i>. It was anchored a few miles off the shore of Ruiz and it took around an hour of bobbing over lazy waves in a creaking dinghy to reach it. Mung stood on shaky legs as they approached. He patted the side of the ship affectionately, cooing at it as if it were a dog. Leo couldn't stop looking over his shoulder, imagining Engli parting the sea with the fury of his footsteps, the ax raised over his head, face bloody and full of rage. It wouldn't stop nagging at him until they were on board and underway. Mung whistled, low and sharp, and a ladder was thrown over the side for them. </p><p data-p-id=\"57184fb1596a5e933412196bddcecb0a\">\"I'll talk to the captain first,\" he said. \"You stay here.\"</p><p data-p-id=\"f198cca81832186da8ddb83173f0e764\">Leo gestured to the miles of blue around them. \"Ain't like I can run.\"</p><p data-p-id=\"dd06af40ee9b001f996778997674b9cb\">Mel sat at the back of the rowboat, her arms hanging lazily off the sides so her fingers could stroke the water's surface. \"We can swim.\"</p><p data-p-id=\"ecfa2ec9dcb6e637fdef2a20790aa737\">Mung snorted, shaking his head before he started his ascent.</p><p data-p-id=\"287543d9d2b176893de3075e17fb5324\">Alone.</p><p data-p-id=\"f6e30483c3a3948d26719d1e5b44b9b2\">Leo turned to her. </p><p data-p-id=\"2cd9748ae5aa624b1c5792176f8499fc\">Mel focused wholly on the water lapping at her fingertips. Red dotted her forehead, raised welts from scratches marred her cheek, and her sword was limp by her side. </p><p data-p-id=\"b9565b7b167e795bc3b2e8832302e2df\">He opened his mouth.</p><p data-p-id=\"36f2ec5ee385fb643b95021ef6a830d5\">Mel cut him off. \"Don't waste your lectures.\"</p><p data-p-id=\"6b28eba033d5858e2f839181d529428c\">\"Kid, I just—\"</p><p data-p-id=\"6bf045a0acc1f3d8b634df9da4d396f7\">\"My name ain't 'kid',\" Mel snapped. \"I don't know why yer pissed. I thought you wanted me to hurt him.\"</p><p data-p-id=\"b127099c71415d532da3a26ed73eb041\">Yes.</p><p data-p-id=\"a6fb8cf9c901d0b855fb13d3ee730d9a\">No. </p><p data-p-id=\"31947cb8c9f2f843d029f796aeda1fa2\">If things ever went the way they were supposed to, she would have never been swinging around on Engli's back in the first place. He'd put a sword in her hands so she could protect herself if she needed to, but he never thought she'd lop off the ear of the largest man he'd ever seen. </p><p data-p-id=\"5980c319301d62bd4e2cbc2e3aa8bde5\">The advice lingered on his tongue. Always go for the kill. She could have gotten him from behind, stuck him through or sliced open the pulp of his throat. </p><p data-p-id=\"44e75566773c55b1eddf414c88443bb0\">But could he say that was what he wanted? Turn a child into a killer? The world was bad enough, he didn't need to make another contribution to it. </p><p data-p-id=\"571f0930d2bd0c51687b4caaa9b2cf87\">Leo pursed his lips as he sighed. The boat rocked as he came closer, shooting out his hand to grab her by the chin before she could protest. And he watched her ripple in disgust underneath his touch, the brush of his meaty palm against her skin, useless fingers below her eye. He squished her cheeks and she squirmed.</p><p data-p-id=\"328a5409bccf3c46efb39367c4850e42\">\"Leo—\"</p><p data-p-id=\"a51ff9d0478535c6ce0cfeab7c40d2fb\">\"Listen. You ain't tough. You're reckless. You're stupid. Fear ain't nothing but common sense. You see a man like that distracted, you run, you don't try to make him angry.\"</p><p data-p-id=\"eecdf9cfc80238e02d8487d2694e9aed\">She pried her puckered mouth open. \"He was gonna hurt you.\"</p><p data-p-id=\"3b94f1ec2574643f7a7431ec3e0bde71\">\"Don't matter. You think it's so easy? I've...you've seen your dad do awful shit but it ain't...it don't go down easy, kid. You don't forget the things you done. You don't wanna end up like—\"</p><p data-p-id=\"1da11afac3a027aae9a1bec49b9f6afb\">\"You?\"</p><p data-p-id=\"9617a7814563a81f754267b7c4b65d96\">Leo nodded. He let her go. Every word out of his mouth felt useless. It didn't matter whether or not she listened, it only mattered what the world would let her do. He'd been her age. He'd sat on the edge of his mother's bed, her fingers just barely tracing his scalp as she talked to him. Violent rebellions tore Abenland apart before he was born and while he was a child. Unhappy common folk ravaged the homes of reigning dukes, set fire to nobles, destroyed official buildings. The rich left the duchies in masses only to return years later with Oskyan soldiers in tow. New violence. She'd wanted him to live differently, without fear of fights in the darkened streets, raids from soldiers, or food shortages turning to blows.</p><p data-p-id=\"fe9fe9240baf8e4d31b46e3d82fbbe56\">He'd failed her.</p><p data-p-id=\"646b7630c725c58932d5b8b89a33d6e6\">His hand shook. Leo squeezed his useless fingers in his opposite fist.</p><p data-p-id=\"77b558f4f42180e91d789d56c019913e\">Mel pulled her hands into the boat. She weaved her fingers together, watching them drip a small puddle on the worn floor of the rowboat before she flicked her eyes up to meet his gaze. \"What's so bad about you?\" </p><p data-p-id=\"3aa3f45a94386e779134af79d76cac4e\">Leo didn't get the chance to answer. </p><p data-p-id=\"2782b7e639259b96104982059b8a8ff3\">\"Hey!\"</p><p data-p-id=\"9ec356a9b0b7b94238c8f1b340435b03\">He looked up. Mung hung over the side of the ship, hair falling past his lips as he spit out strands in order to shout down at them. \"You can come up now!\" He shook the rope ladder for emphasis. </p><p data-p-id=\"5d5a63e31a77e5d8a5108d02a1f38301\">Leo gestured for Mel to go first. Every jolting movement threatened to capsize the small boat. </p><p data-p-id=\"351bd379fbb3ab57c13b28fdc0d98a94\">He wouldn't say it.</p><p data-p-id=\"abe8efc2f64c0f02e23225688662e186\">But he was glad for the interruption.</p><p data-p-id=\"f86e5758d27756f5686ece9babc8520d\">He started climbing once Mel reached the railing. Leo gave the rope a tight tug before hoping it would handle his weight. He took one last glance towards Ruiz, the sloppy shoreline winking at him from behind the sloshy waves.</p><p data-p-id=\"914c42ce1dbc8d47d4de7e95952daeaa\">A knot settled in the pit of his stomach.</p><p data-p-id=\"1b1ebd6bcbad21955bcc1f6b9fdf0b39\">This would not be the end. </p><p data-p-id=\"e1563bce361a18fd20479dbfda99cda7\">Redbeat waited for him. Her hands grabbed his collar the moment his boots touched the slippery wood. Her grin was wide and toothy. </p><p data-p-id=\"b639a7e47d4a4b1a318d6f70ae4373c6\">\"I would have you sign my book, but clearly that don't mean shit to you.\" It took him a moment to realize she spoke Escan instead of Letrossi. He only noticed when Mel cocked her head to the side and scrunched her eyebrows together in confusion. Either Redbeat had forgotten Mel's native tongue or didn't care. </p><p data-p-id=\"10d4388c2d70c757a679b971bc5408ff\">Leo shrugged out of her grip. His tongue flicked between his teeth. The last thing he wanted was to be marked as someone who couldn't remain loyal. He wasn't ditching Dunham out of his own greed or lack of character. He was doing it for Mel, to get the hell away from Engli and the island, to go...</p><p data-p-id=\"e33e0d40fe30b7bfe87f627f5c672d93\">To go where?</p><p data-p-id=\"b80eac2ba6776791f083bb3c7170c8d2\">She noted his step back with a wider grin. Redbeat nodded to the side. Her ship wasn't as ornate as the Oskyan or cluttered as Dunham's; except for the helm and misplaced crates the main deck was empty. Overhead was nothing but noise as her smaller crew manned the sails, masts and spars creaking with effort. His eyes finally landed on the grated hatch in the middle as a dulling blond bent to lift the door. </p><p data-p-id=\"a3e705e9102519dcd9b01b9c3e45cfb3\">\"We need to have words. The sooner we have 'em, the sooner you can kiss this island goodbye and stop pissing yourself.\"</p><p data-p-id=\"f18181deca936f674f9c008d759f5c91\">Leo narrowed his eyes. He only saw glimpses of her crew but he felt their eyes all the same. \"Your men robbed me.\"</p><p data-p-id=\"d8d60688c2aa0123482a6485a85046ca\">Redbeat shrugged. \"Try not to pass out around thieves next time.\" </p><p data-p-id=\"b27fef8dc26cfc9c4395bc40eeb7f017\">Underneath, the ship was as dark and damp as he would have imagined. Thick, smelly ropes hung from the low ceiling. Stained hammocks hung between the poles. The air felt hotter, thicker, and he chewed each breath before letting it settle in his lungs. Each time he opened his mouth he was greeted with the taste of sweat on his tongue. Redbeat kicked open a door. A chandelier swung dangerously with each sway of the ship. There was a desk, a bed hanging from the side wall, a few oil lanterns, and a stack of leather bound journals and yellowing paper. Obviously Redbeat's cabin.</p><p data-p-id=\"70432fb2b0d272a0ac7c03ca8a748282\">She took a seat behind her desk. Mung's thin body brushed past her, busying himself tidying the books. </p><p data-p-id=\"a4b93988229b094d82b6ccc252f59dd1\">\"Close the door, dear.\" She gestured to Mel with a flick of her wrist. But Mel stood still beside Leo, looking up at him expectantly before he finally translated the command. </p><p data-p-id=\"533a6719111728a7c02447e255ac4924\">Redbeat rubbed her temples as she kicked her legs up onto the desk. It groaned in complaint. \"Damn Letrossi pirates need to stay in their own waters if they're not gonna learn our language. Mercy could never stay away.\"</p><p data-p-id=\"32efbff66413253e18ac7fcbe93fd1ff\">Mel turned to close the door.</p><p data-p-id=\"8fcaef26104f0deb6a3c9c510195d753\">\"Guess it's just easy to forget considering the kid is...\" She trailed off, shrugging. But Leo knew what she meant. Karric. Foreign. People from the Renya found themselves north of the Laniora, the body of water separating their region from the rest of the continent, for a multitude of reasons. Even so, the further north the stranger it seemed to some. Letros was also separate; leagues of sea kept it apart from Oskya who they called their closest ally.</p><p data-p-id=\"5b98a9c6523d83893322a10b178d7568\">Leo crossed his arms. \"So you thought to stick with Escan?\"</p><p data-p-id=\"7f4e857cf768a3ac7c150741bdc81977\">Another shrug. She pointed her thumb towards Mung. \"They all do, don't they? All those schools and colonies we set up there gotta be good for something.\"</p><p data-p-id=\"8dd662c5460a22820923223a3a2ee44f\">'We.'</p><p data-p-id=\"6ec444f93691db93c07f8644c4f89fe3\">Leo didn't really count as Escana, did he? His mother was. His father might be, but those details were blurry. </p><p data-p-id=\"7eb14a9cdef53d251782ab4f196e0213\">\"Mel's not—\"</p><p data-p-id=\"110f0c2f145833eef9f9bceac3e19c02\">\"Renya blood is Renya blood,\" said Mung. He'd found a spot to sit on the floor, a book open between his knees. Mung cocked his head to the side, running his tongue over his bottom lip before stumbling through, in Letrossi, \"You know something about your home, don't you?\"</p><p data-p-id=\"7f41d180e119fd50586d35dca4a9e0a5\">Leo cleared his throat so Mel knew she was being spoken to. Her eyes widened and she pointed at herself all the same. \"Me? I ain't step foot on land until yesterday.\" She stamped her feet on the floor. \"This is as home as I'll ever be.\"</p><p data-p-id=\"46f20135aa61ac4c9f0d91df001b8af1\">Mung pursed his lips as he hummed in displeasure. </p><p data-p-id=\"3d46d02d7684e8097cada4c5278b6772\">Redbeat barked laughter. \"A true sailor, huh?\" She folded her arms over her chest. \"So I've been told ya don't disappoint, Dianglo. You know where Mercy's going?\"</p><p data-p-id=\"a87351c984d3becef44358a032465808\">His eyes met with Mung's.</p><p data-p-id=\"c52f6eb31c1325d96977b2cd1a4b9dd0\">\"What happened to Veres?\"</p><p data-p-id=\"e555df916336359a54b37e1c44207f50\">\"I asked a question.\"</p><p data-p-id=\"588166ee3e361f83cf91a0301c264bda\">Leo bit the inside of his cheek. Redbeat could just as well throw him overboard if she wanted. But if he was going to lie, he at least wanted to be sure. \"I'll be a traitor for the rest of my life, might as well get my worth.\"</p><p data-p-id=\"ce12c9c5b51a1a16625157fba8b78185\">\"Alright, navy man. The Order caught Veres a month ago, or so I heard. They hung the bastard.\"</p><p data-p-id=\"3860d615daad04a35583a965785398e3\">Leo nodded. So Dunham wouldn't try to reach out to him even if he wasn't dead. Anything with the Order of the Knights attached to it stunk too badly to bother with. They were harsher than the navy. </p><p data-p-id=\"a857001a26641319c574cb96821b45b0\">\"Dunham's not a religious man but he's a prideful man. No gods but the Saints, yeah? He'll sell her back to the people missing her miracles.\"</p><p data-p-id=\"10a5fe50c4553c1ab172ae10688f00bd\">\"You doubt her ability to tempt the mind?\"</p><p data-p-id=\"ed3b11b137f1b5e84f8c27da52d19540\">\"You met her? I sure as hell wasn't desperate to keep her company.\"</p><p data-p-id=\"adecaae5d8ce167ae1a40389a866b374\">Mung flinched away from his gaze. \"Perhaps, but he sailed with her. She could have his mind already.\"</p><p data-p-id=\"abe6038d35a7ef153399ad556219fb66\">Leo snorted. \"Then he's greedy and will pretend to offer a trade only to take the money and the girl.\"</p><p data-p-id=\"3cd86b5665990ec5956587e0be9e91fb\">Redbeat picked at her teeth. \"Or he's really greedy, hooked on her miracles, and doesn't even wanna risk losing her.\" </p><p data-p-id=\"72d1a8b9776c5e73c18c202504669511\">Leo wanted to roll his eyes. What had he really seen? A girl, small and feeble as anything. Off-putting to look at and with a voice that chilled his blood. But what had he <i>seen?</i> The ship was empty. It wasn't as if he'd seen her kill anyone. No sacrifices committed without proof. And he certainly hadn't seen any miracles.</p><p data-p-id=\"1f47d424574880bce49aa22f072430d4\">\"A man like him asks for a miracle, it'd be to come into wealth, and last I saw he ain't rich.\"</p><p data-p-id=\"5cce6d79afc13c8e5f44fb1a2eb95655\">\"Do you know much about the Renya?\" Mung asked. </p><p data-p-id=\"e8ef9045e7a76aefcafc076252d831bb\">Leo swallowed a grumble before shaking his head. No. Not truly. He knew a few people from the region. He'd seen spots of it from a distance, but he'd never really been there himself. </p><p data-p-id=\"d1162269c9cb4e48c32007f3994cf1c4\">\"Then you don't know about Hendar.\" </p><p data-p-id=\"4fd49b987546f7705df136146631c6a4\">He raised an eyebrow. \"Hendar?\"</p><p data-p-id=\"5fe3fb88c1e5f05c1385593865663d3a\">\"The language gods speak.\"</p><p data-p-id=\"07471fac3d621e81ecd79061f95d95d9\">\"For fuck's sake—\"</p><p data-p-id=\"ffee207ad5b5897c6d09bfd130d1f364\">\"It's a deal,\" Mung pressed on. \"Give and take.\"</p><p data-p-id=\"6f8e9473cb283dca0698eee33c30c3ad\">The knot in his gut tightened. </p><p data-p-id=\"269f07852d7e6e0df580f6968fb52d07\"><i>Nothing can be asked without something being given.</i></p><p data-p-id=\"54103420ede801c9a8876d48fc09dacf\">\"In truth, things like Tamune are more beast than man but they're closer to the ideal image. They're not the only ones to be touched by a blessing. Something gets twisted in the blood for Tamune to be born, but there are others. Perhaps not heralded as living gods but just as prized if—\"</p><p data-p-id=\"528b545765c3b839dc603625cfa8d2ff\">Leo pointed at Mel. \"My kid might not be able to understand a fucking word of what I'm saying but at least he ain't cryptic like yours.\" </p><p data-p-id=\"615de63c72a357d2a1e13299ced0d535\">Redbeat huffed. \"Plainly, Mung.\" </p><p data-p-id=\"56f2bae052d78ff72d890fb814f6c1d8\">He frowned. \"The blessing gives you insight to their language. Knowing it allows you certain <i>gifts</i>. The mark of it, if it's strong, stinks like nothing else. I can smell it on you.\" Mung pointed at Mel. \"But Tamune took an interest in this one. It's stronger on h—him.\" He stuttered at the end of his sentence, bracing to cough into the crook of his elbow. </p><p data-p-id=\"d0fdc2f7c651d984e338ad41575c31fe\">Silence. </p><p data-p-id=\"4e14bd4cb97f3a9c68bf54ebaf65e7b5\">Leo let the words settle. </p><p data-p-id=\"b9ee48533943240d32679bbb8038d368\">He felt his forehead twitch, a dull thud beginning in the back of his skull. His headache was growing stronger by the second, and his stomach growled with a need for something to quell it. </p><p data-p-id=\"96e9384b0ca819157106913e9becabd0\">\"You trying to tell me you some kind of...magic-sniffing sea witch?\"</p><p data-p-id=\"88ddab04acf3c0789fe8e1bbdb21d0ee\">Mung's nose wrinkled. \"I never called it magic.\" </p><p data-p-id=\"b691267ddf13a49b9d140e1c9df521b7\">But he didn't deny it either. He almost seemed insulted. That only made it worse. Leo stood across from two people who believed in living gods and magic. His hands flew to his hair, and he grabbed fistfuls as he pinched his scalp.</p><p data-p-id=\"15a6600975f452a9982719e58403b16b\">\"I'm still passed out beside a dead cat, aren't I?\" Or Engli really had cracked open his skull and this was what hell was like. </p><p data-p-id=\"62d6083cf75480f8c1472666f4f17344\">\"I'm only trying to suggest if I can still smell you, so can she! And what...what if all Dunham wants is to get rid of his kid? He's never been a great father, right? So now maybe Tamune wants him and—\"</p><p data-p-id=\"880b13faf1543c463b15f09b5a11ed24\">Leo slammed his palm flat on Redbeat's desk. Her eyebrows shot to her hairline but she made no move as she watched him. </p><p data-p-id=\"3a515921987f1bd6bf1d9e6635e6c8ed\">\"Drop us off at the next port. I don't want any of this bullshit and I'm sure you can do without seeing my face for much longer.\"</p><p data-p-id=\"1622febc29b50352cdd854bf8b152527\">\"You got yourself a deal, Dianglo.\" </p><p data-p-id=\"7ccebe7f0ae1c82f9117cddfd1a99742\">Mung's words descended to senseless jabber. His cheeks flamed red, fingers clenching and tearing at the pages of his book. </p><p data-p-id=\"1535a93c427a5a58680a85ea63600406\">Leo grabbed Mel's wrist on the way out of the room. They were already away from Ruiz. Once the crew pulled up the anchor they'd be on their way. They'd find a place to be, Leo would have to find work and stay low to avoid running into Dunham's circle, but soon this talk of Tamune and sea witches would be miles behind him.</p>\n"
     ]
    }
   ],
   "source": [
    "async with ClientSession(headers=headers, cookies=cookies) as session:\n",
    "    async with session.get(\"https://www.wattpad.com/apiv2/?m=storytext&id=1446923091\") as response:\n",
    "        print(await response.text())"
   ]
  },
  {
   "cell_type": "code",
   "execution_count": 17,
   "metadata": {},
   "outputs": [],
   "source": [
    "from ebooklib import epub\n",
    "story_id = 369241212"
   ]
  },
  {
   "cell_type": "code",
   "execution_count": 15,
   "metadata": {},
   "outputs": [],
   "source": [
    "import asyncio\n",
    "from ebooklib import epub\n",
    "import unicodedata\n",
    "import re\n",
    "from aiohttp_client_cache import FileBackend\n",
    "\n",
    "headers = {\n",
    "    \"user-agent\": \"Mozilla/5.0 (Windows NT 10.0; Win64; x64) AppleWebKit/537.36 (KHTML, like Gecko) Chrome/103.0.0.0 Safari/537.36\",\n",
    "}\n",
    "\n",
    "cache = FileBackend(\n",
    "    use_temp=True,\n",
    "    expire_after=43200,  # 12 hours\n",
    ")\n",
    "\n",
    "\n",
    "async def wp_get_cookies(username: str, password: str) -> dict:\n",
    "    \"\"\"Retrieves authorization cookies from Wattpad by logging in with user creds.\n",
    "\n",
    "    Args:\n",
    "        username (str): Username.\n",
    "        password (str): Password.\n",
    "\n",
    "    Raises:\n",
    "        ValueError: Bad status code.\n",
    "        ValueError: No cookies returned.\n",
    "\n",
    "    Returns:\n",
    "        dict: Authorization cookies.\n",
    "    \"\"\"\n",
    "    async with ClientSession(headers=headers) as session:\n",
    "        async with session.post(\n",
    "            \"https://www.wattpad.com/auth/login?nextUrl=%2F&_data=routes%2Fauth%2Flogin\",\n",
    "            data={\n",
    "                \"username\": username.lower(),\n",
    "                \"password\": password,\n",
    "            },  # the username.lower() is for caching\n",
    "        ) as response:\n",
    "            if response.status != 204:\n",
    "                raise ValueError(\"Not a 204.\")\n",
    "            print(response.cookies, await response.text())\n",
    "            cookies = {\n",
    "                k: v.value\n",
    "                for k, v in response.cookies.items()  # Thanks https://stackoverflow.com/a/32281245\n",
    "            }\n",
    "\n",
    "            if not cookies:\n",
    "                raise ValueError(\"No cookies.\")\n",
    "\n",
    "            return cookies\n",
    "\n",
    "\n",
    "async def retrieve_story(story_id: int, retry=True, cookies={}) -> dict:\n",
    "    \"\"\"Taking a story_id, return its information from the Wattpad API.\"\"\"\n",
    "    async with ClientSession(\n",
    "        headers=headers,\n",
    "        cookies=cookies,\n",
    "    ) as session:\n",
    "        try:\n",
    "            async with session.get(\n",
    "                f\"https://www.wattpad.com/api/v3/stories/{story_id}?fields=tags,id,title,createDate,modifyDate,language(name),description,completed,mature,url,isPaywalled,user(username),parts(id,title),cover\"\n",
    "            ) as response:\n",
    "                if not response.ok:\n",
    "                    if response.status in [404, 400]:\n",
    "                        return {}\n",
    "                    raise ValueError(\"Status Code:\", response.status)\n",
    "                body = await response.json()\n",
    "        except ValueError:\n",
    "            if not retry:\n",
    "                raise asyncio.TimeoutError()\n",
    "            await asyncio.sleep(15)\n",
    "            return await retrieve_story(story_id, retry=False)\n",
    "\n",
    "    return body\n",
    "\n",
    "\n",
    "async def fetch_part_content(part_id: int, retry: bool = True, cookies={}) -> str:\n",
    "    \"\"\"Return the HTML Content of a Part.\"\"\"\n",
    "    print('fc cookies', cookies)\n",
    "    async with ClientSession(headers=headers, cookies=cookies) as session:\n",
    "        async with session.get(\n",
    "            f\"https://www.wattpad.com/apiv2/?m=storytext&id={part_id}\"\n",
    "        ) as response:\n",
    "            if not response.ok:\n",
    "                if response.status in [404, 400]:\n",
    "                    return \"\"\n",
    "                raise ValueError(\"Status Code:\", response.status)\n",
    "            body = await response.text()\n",
    "\n",
    "    return body\n",
    "\n",
    "\n",
    "async def fetch_cover(url: str, cookies={}) -> bytes:\n",
    "    \"\"\"Fetch image bytes.\"\"\"\n",
    "    async with ClientSession(headers=headers, cookies=cookies) as session:\n",
    "        async with session.get(url) as response:\n",
    "            if not response.ok:\n",
    "                if response.status in [404, 400]:\n",
    "                    return bytes()\n",
    "                raise ValueError(\"Status Code:\", response.status)\n",
    "            body = await response.read()\n",
    "\n",
    "    return body\n",
    "\n",
    "\n",
    "def slugify(value, allow_unicode=False) -> str:\n",
    "    \"\"\"\n",
    "    Taken from https://github.com/django/django/blob/master/django/utils/text.py\n",
    "    Convert to ASCII if 'allow_unicode' is False. Convert spaces or repeated\n",
    "    dashes to single dashes. Remove characters that aren't alphanumerics,\n",
    "    underscores, or hyphens. Convert to lowercase. Also strip leading and\n",
    "    trailing whitespace, dashes, and underscores.\n",
    "\n",
    "    Thanks https://stackoverflow.com/a/295466.\n",
    "    \"\"\"\n",
    "    value = str(value)\n",
    "    if allow_unicode:\n",
    "        value = unicodedata.normalize(\"NFKC\", value)\n",
    "    else:\n",
    "        value = (\n",
    "            unicodedata.normalize(\"NFKD\", value)\n",
    "            .encode(\"ascii\", \"ignore\")\n",
    "            .decode(\"ascii\")\n",
    "        )\n",
    "    value = re.sub(r\"[^\\w\\s-]\", \"\", value.lower())\n",
    "    return re.sub(r\"[-\\s]+\", \"-\", value).strip(\"-_\")\n",
    "\n",
    "\n",
    "# --- #\n",
    "\n",
    "\n",
    "def set_metadata(book, data):\n",
    "    book.add_author(data[\"user\"][\"username\"])\n",
    "\n",
    "    book.add_metadata(\"DC\", \"description\", data[\"description\"])\n",
    "    book.add_metadata(\"DC\", \"created\", data[\"createDate\"])\n",
    "    book.add_metadata(\"DC\", \"modified\", data[\"modifyDate\"])\n",
    "    book.add_metadata(\"DC\", \"language\", data[\"language\"][\"name\"])\n",
    "\n",
    "    book.add_metadata(\n",
    "        None, \"meta\", \"\", {\"name\": \"tags\", \"content\": \", \".join(data[\"tags\"])}\n",
    "    )\n",
    "    book.add_metadata(\n",
    "        None, \"meta\", \"\", {\"name\": \"mature\", \"content\": str(int(data[\"mature\"]))}\n",
    "    )\n",
    "    book.add_metadata(\n",
    "        None, \"meta\", \"\", {\"name\": \"completed\", \"content\": str(int(data[\"completed\"]))}\n",
    "    )\n",
    "\n",
    "\n",
    "async def set_cover(book, data):\n",
    "    book.set_cover(\"cover.jpg\", await fetch_cover(data[\"cover\"]))\n",
    "\n",
    "\n",
    "async def add_chapters(book, data, cookies={}):\n",
    "    chapters = []\n",
    "    print('cookies', cookies)\n",
    "\n",
    "    for part in data[\"parts\"]:\n",
    "        content = await fetch_part_content(part[\"id\"], cookies=cookies)\n",
    "        title = part[\"title\"]\n",
    "\n",
    "        # Thanks https://eu17.proxysite.com/process.php?d=5VyWYcoQl%2BVF0BYOuOavtvjOloFUZz2BJ%2Fepiusk6Nz7PV%2B9i8rs7cFviGftrBNll%2B0a3qO7UiDkTt4qwCa0fDES&b=1\n",
    "        chapter = epub.EpubHtml(\n",
    "            title=title,\n",
    "            file_name=f\"{slugify(title)}.xhtml\",\n",
    "            lang=data[\"language\"][\"name\"],\n",
    "        )\n",
    "        chapter.set_content(f\"<h1>{title}</h1>\" + content)\n",
    "\n",
    "        chapters.append(chapter)\n",
    "\n",
    "        yield title  # Yield the chapter's title upon insertion preceeded by retrieval.\n",
    "\n",
    "    for chapter in chapters:\n",
    "        book.add_item(chapter)\n",
    "\n",
    "    book.toc = tuple(chapters)\n",
    "\n",
    "    # Thanks https://github.com/aerkalov/ebooklib/blob/master/samples/09_create_image/create.py\n",
    "    book.add_item(epub.EpubNcx())\n",
    "    book.add_item(epub.EpubNav())\n",
    "\n",
    "    # create spine\n",
    "    book.spine = [\"nav\"] + chapters\n"
   ]
  },
  {
   "cell_type": "code",
   "execution_count": 18,
   "metadata": {},
   "outputs": [
    {
     "name": "stdout",
     "output_type": "stream",
     "text": [
      "Metadata Downloaded\n",
      "cookies {'usprivacy': '', 'lang': '34', 'locale': 'en_US', 'wp_id': 'f2bbf3eb-7bf0-4ee0-8ed8-cd1ee02b2608', 'token': '369518880%3A2%3A1719075107%3AcbCP3ZM2Xop4cdg3oD194g3PnZ6gJ_IPu3kKnMMm7iyEeghAUSdumpQ8mfhMRNoH'}\n",
      "fc cookies {'usprivacy': '', 'lang': '34', 'locale': 'en_US', 'wp_id': 'f2bbf3eb-7bf0-4ee0-8ed8-cd1ee02b2608', 'token': '369518880%3A2%3A1719075107%3AcbCP3ZM2Xop4cdg3oD194g3PnZ6gJ_IPu3kKnMMm7iyEeghAUSdumpQ8mfhMRNoH'}\n",
      "fc cookies {'usprivacy': '', 'lang': '34', 'locale': 'en_US', 'wp_id': 'f2bbf3eb-7bf0-4ee0-8ed8-cd1ee02b2608', 'token': '369518880%3A2%3A1719075107%3AcbCP3ZM2Xop4cdg3oD194g3PnZ6gJ_IPu3kKnMMm7iyEeghAUSdumpQ8mfhMRNoH'}\n",
      "fc cookies {'usprivacy': '', 'lang': '34', 'locale': 'en_US', 'wp_id': 'f2bbf3eb-7bf0-4ee0-8ed8-cd1ee02b2608', 'token': '369518880%3A2%3A1719075107%3AcbCP3ZM2Xop4cdg3oD194g3PnZ6gJ_IPu3kKnMMm7iyEeghAUSdumpQ8mfhMRNoH'}\n",
      "fc cookies {'usprivacy': '', 'lang': '34', 'locale': 'en_US', 'wp_id': 'f2bbf3eb-7bf0-4ee0-8ed8-cd1ee02b2608', 'token': '369518880%3A2%3A1719075107%3AcbCP3ZM2Xop4cdg3oD194g3PnZ6gJ_IPu3kKnMMm7iyEeghAUSdumpQ8mfhMRNoH'}\n",
      "fc cookies {'usprivacy': '', 'lang': '34', 'locale': 'en_US', 'wp_id': 'f2bbf3eb-7bf0-4ee0-8ed8-cd1ee02b2608', 'token': '369518880%3A2%3A1719075107%3AcbCP3ZM2Xop4cdg3oD194g3PnZ6gJ_IPu3kKnMMm7iyEeghAUSdumpQ8mfhMRNoH'}\n",
      "fc cookies {'usprivacy': '', 'lang': '34', 'locale': 'en_US', 'wp_id': 'f2bbf3eb-7bf0-4ee0-8ed8-cd1ee02b2608', 'token': '369518880%3A2%3A1719075107%3AcbCP3ZM2Xop4cdg3oD194g3PnZ6gJ_IPu3kKnMMm7iyEeghAUSdumpQ8mfhMRNoH'}\n",
      "fc cookies {'usprivacy': '', 'lang': '34', 'locale': 'en_US', 'wp_id': 'f2bbf3eb-7bf0-4ee0-8ed8-cd1ee02b2608', 'token': '369518880%3A2%3A1719075107%3AcbCP3ZM2Xop4cdg3oD194g3PnZ6gJ_IPu3kKnMMm7iyEeghAUSdumpQ8mfhMRNoH'}\n",
      "fc cookies {'usprivacy': '', 'lang': '34', 'locale': 'en_US', 'wp_id': 'f2bbf3eb-7bf0-4ee0-8ed8-cd1ee02b2608', 'token': '369518880%3A2%3A1719075107%3AcbCP3ZM2Xop4cdg3oD194g3PnZ6gJ_IPu3kKnMMm7iyEeghAUSdumpQ8mfhMRNoH'}\n",
      "fc cookies {'usprivacy': '', 'lang': '34', 'locale': 'en_US', 'wp_id': 'f2bbf3eb-7bf0-4ee0-8ed8-cd1ee02b2608', 'token': '369518880%3A2%3A1719075107%3AcbCP3ZM2Xop4cdg3oD194g3PnZ6gJ_IPu3kKnMMm7iyEeghAUSdumpQ8mfhMRNoH'}\n",
      "fc cookies {'usprivacy': '', 'lang': '34', 'locale': 'en_US', 'wp_id': 'f2bbf3eb-7bf0-4ee0-8ed8-cd1ee02b2608', 'token': '369518880%3A2%3A1719075107%3AcbCP3ZM2Xop4cdg3oD194g3PnZ6gJ_IPu3kKnMMm7iyEeghAUSdumpQ8mfhMRNoH'}\n",
      "fc cookies {'usprivacy': '', 'lang': '34', 'locale': 'en_US', 'wp_id': 'f2bbf3eb-7bf0-4ee0-8ed8-cd1ee02b2608', 'token': '369518880%3A2%3A1719075107%3AcbCP3ZM2Xop4cdg3oD194g3PnZ6gJ_IPu3kKnMMm7iyEeghAUSdumpQ8mfhMRNoH'}\n",
      "fc cookies {'usprivacy': '', 'lang': '34', 'locale': 'en_US', 'wp_id': 'f2bbf3eb-7bf0-4ee0-8ed8-cd1ee02b2608', 'token': '369518880%3A2%3A1719075107%3AcbCP3ZM2Xop4cdg3oD194g3PnZ6gJ_IPu3kKnMMm7iyEeghAUSdumpQ8mfhMRNoH'}\n",
      "fc cookies {'usprivacy': '', 'lang': '34', 'locale': 'en_US', 'wp_id': 'f2bbf3eb-7bf0-4ee0-8ed8-cd1ee02b2608', 'token': '369518880%3A2%3A1719075107%3AcbCP3ZM2Xop4cdg3oD194g3PnZ6gJ_IPu3kKnMMm7iyEeghAUSdumpQ8mfhMRNoH'}\n",
      "fc cookies {'usprivacy': '', 'lang': '34', 'locale': 'en_US', 'wp_id': 'f2bbf3eb-7bf0-4ee0-8ed8-cd1ee02b2608', 'token': '369518880%3A2%3A1719075107%3AcbCP3ZM2Xop4cdg3oD194g3PnZ6gJ_IPu3kKnMMm7iyEeghAUSdumpQ8mfhMRNoH'}\n",
      "fc cookies {'usprivacy': '', 'lang': '34', 'locale': 'en_US', 'wp_id': 'f2bbf3eb-7bf0-4ee0-8ed8-cd1ee02b2608', 'token': '369518880%3A2%3A1719075107%3AcbCP3ZM2Xop4cdg3oD194g3PnZ6gJ_IPu3kKnMMm7iyEeghAUSdumpQ8mfhMRNoH'}\n",
      "fc cookies {'usprivacy': '', 'lang': '34', 'locale': 'en_US', 'wp_id': 'f2bbf3eb-7bf0-4ee0-8ed8-cd1ee02b2608', 'token': '369518880%3A2%3A1719075107%3AcbCP3ZM2Xop4cdg3oD194g3PnZ6gJ_IPu3kKnMMm7iyEeghAUSdumpQ8mfhMRNoH'}\n",
      "fc cookies {'usprivacy': '', 'lang': '34', 'locale': 'en_US', 'wp_id': 'f2bbf3eb-7bf0-4ee0-8ed8-cd1ee02b2608', 'token': '369518880%3A2%3A1719075107%3AcbCP3ZM2Xop4cdg3oD194g3PnZ6gJ_IPu3kKnMMm7iyEeghAUSdumpQ8mfhMRNoH'}\n",
      "fc cookies {'usprivacy': '', 'lang': '34', 'locale': 'en_US', 'wp_id': 'f2bbf3eb-7bf0-4ee0-8ed8-cd1ee02b2608', 'token': '369518880%3A2%3A1719075107%3AcbCP3ZM2Xop4cdg3oD194g3PnZ6gJ_IPu3kKnMMm7iyEeghAUSdumpQ8mfhMRNoH'}\n",
      "fc cookies {'usprivacy': '', 'lang': '34', 'locale': 'en_US', 'wp_id': 'f2bbf3eb-7bf0-4ee0-8ed8-cd1ee02b2608', 'token': '369518880%3A2%3A1719075107%3AcbCP3ZM2Xop4cdg3oD194g3PnZ6gJ_IPu3kKnMMm7iyEeghAUSdumpQ8mfhMRNoH'}\n",
      "fc cookies {'usprivacy': '', 'lang': '34', 'locale': 'en_US', 'wp_id': 'f2bbf3eb-7bf0-4ee0-8ed8-cd1ee02b2608', 'token': '369518880%3A2%3A1719075107%3AcbCP3ZM2Xop4cdg3oD194g3PnZ6gJ_IPu3kKnMMm7iyEeghAUSdumpQ8mfhMRNoH'}\n",
      "fc cookies {'usprivacy': '', 'lang': '34', 'locale': 'en_US', 'wp_id': 'f2bbf3eb-7bf0-4ee0-8ed8-cd1ee02b2608', 'token': '369518880%3A2%3A1719075107%3AcbCP3ZM2Xop4cdg3oD194g3PnZ6gJ_IPu3kKnMMm7iyEeghAUSdumpQ8mfhMRNoH'}\n",
      "fc cookies {'usprivacy': '', 'lang': '34', 'locale': 'en_US', 'wp_id': 'f2bbf3eb-7bf0-4ee0-8ed8-cd1ee02b2608', 'token': '369518880%3A2%3A1719075107%3AcbCP3ZM2Xop4cdg3oD194g3PnZ6gJ_IPu3kKnMMm7iyEeghAUSdumpQ8mfhMRNoH'}\n",
      "fc cookies {'usprivacy': '', 'lang': '34', 'locale': 'en_US', 'wp_id': 'f2bbf3eb-7bf0-4ee0-8ed8-cd1ee02b2608', 'token': '369518880%3A2%3A1719075107%3AcbCP3ZM2Xop4cdg3oD194g3PnZ6gJ_IPu3kKnMMm7iyEeghAUSdumpQ8mfhMRNoH'}\n",
      "fc cookies {'usprivacy': '', 'lang': '34', 'locale': 'en_US', 'wp_id': 'f2bbf3eb-7bf0-4ee0-8ed8-cd1ee02b2608', 'token': '369518880%3A2%3A1719075107%3AcbCP3ZM2Xop4cdg3oD194g3PnZ6gJ_IPu3kKnMMm7iyEeghAUSdumpQ8mfhMRNoH'}\n",
      "fc cookies {'usprivacy': '', 'lang': '34', 'locale': 'en_US', 'wp_id': 'f2bbf3eb-7bf0-4ee0-8ed8-cd1ee02b2608', 'token': '369518880%3A2%3A1719075107%3AcbCP3ZM2Xop4cdg3oD194g3PnZ6gJ_IPu3kKnMMm7iyEeghAUSdumpQ8mfhMRNoH'}\n",
      "fc cookies {'usprivacy': '', 'lang': '34', 'locale': 'en_US', 'wp_id': 'f2bbf3eb-7bf0-4ee0-8ed8-cd1ee02b2608', 'token': '369518880%3A2%3A1719075107%3AcbCP3ZM2Xop4cdg3oD194g3PnZ6gJ_IPu3kKnMMm7iyEeghAUSdumpQ8mfhMRNoH'}\n",
      "fc cookies {'usprivacy': '', 'lang': '34', 'locale': 'en_US', 'wp_id': 'f2bbf3eb-7bf0-4ee0-8ed8-cd1ee02b2608', 'token': '369518880%3A2%3A1719075107%3AcbCP3ZM2Xop4cdg3oD194g3PnZ6gJ_IPu3kKnMMm7iyEeghAUSdumpQ8mfhMRNoH'}\n",
      "fc cookies {'usprivacy': '', 'lang': '34', 'locale': 'en_US', 'wp_id': 'f2bbf3eb-7bf0-4ee0-8ed8-cd1ee02b2608', 'token': '369518880%3A2%3A1719075107%3AcbCP3ZM2Xop4cdg3oD194g3PnZ6gJ_IPu3kKnMMm7iyEeghAUSdumpQ8mfhMRNoH'}\n",
      "fc cookies {'usprivacy': '', 'lang': '34', 'locale': 'en_US', 'wp_id': 'f2bbf3eb-7bf0-4ee0-8ed8-cd1ee02b2608', 'token': '369518880%3A2%3A1719075107%3AcbCP3ZM2Xop4cdg3oD194g3PnZ6gJ_IPu3kKnMMm7iyEeghAUSdumpQ8mfhMRNoH'}\n",
      "fc cookies {'usprivacy': '', 'lang': '34', 'locale': 'en_US', 'wp_id': 'f2bbf3eb-7bf0-4ee0-8ed8-cd1ee02b2608', 'token': '369518880%3A2%3A1719075107%3AcbCP3ZM2Xop4cdg3oD194g3PnZ6gJ_IPu3kKnMMm7iyEeghAUSdumpQ8mfhMRNoH'}\n",
      "fc cookies {'usprivacy': '', 'lang': '34', 'locale': 'en_US', 'wp_id': 'f2bbf3eb-7bf0-4ee0-8ed8-cd1ee02b2608', 'token': '369518880%3A2%3A1719075107%3AcbCP3ZM2Xop4cdg3oD194g3PnZ6gJ_IPu3kKnMMm7iyEeghAUSdumpQ8mfhMRNoH'}\n",
      "fc cookies {'usprivacy': '', 'lang': '34', 'locale': 'en_US', 'wp_id': 'f2bbf3eb-7bf0-4ee0-8ed8-cd1ee02b2608', 'token': '369518880%3A2%3A1719075107%3AcbCP3ZM2Xop4cdg3oD194g3PnZ6gJ_IPu3kKnMMm7iyEeghAUSdumpQ8mfhMRNoH'}\n",
      "fc cookies {'usprivacy': '', 'lang': '34', 'locale': 'en_US', 'wp_id': 'f2bbf3eb-7bf0-4ee0-8ed8-cd1ee02b2608', 'token': '369518880%3A2%3A1719075107%3AcbCP3ZM2Xop4cdg3oD194g3PnZ6gJ_IPu3kKnMMm7iyEeghAUSdumpQ8mfhMRNoH'}\n",
      "fc cookies {'usprivacy': '', 'lang': '34', 'locale': 'en_US', 'wp_id': 'f2bbf3eb-7bf0-4ee0-8ed8-cd1ee02b2608', 'token': '369518880%3A2%3A1719075107%3AcbCP3ZM2Xop4cdg3oD194g3PnZ6gJ_IPu3kKnMMm7iyEeghAUSdumpQ8mfhMRNoH'}\n",
      "fc cookies {'usprivacy': '', 'lang': '34', 'locale': 'en_US', 'wp_id': 'f2bbf3eb-7bf0-4ee0-8ed8-cd1ee02b2608', 'token': '369518880%3A2%3A1719075107%3AcbCP3ZM2Xop4cdg3oD194g3PnZ6gJ_IPu3kKnMMm7iyEeghAUSdumpQ8mfhMRNoH'}\n",
      "fc cookies {'usprivacy': '', 'lang': '34', 'locale': 'en_US', 'wp_id': 'f2bbf3eb-7bf0-4ee0-8ed8-cd1ee02b2608', 'token': '369518880%3A2%3A1719075107%3AcbCP3ZM2Xop4cdg3oD194g3PnZ6gJ_IPu3kKnMMm7iyEeghAUSdumpQ8mfhMRNoH'}\n",
      "fc cookies {'usprivacy': '', 'lang': '34', 'locale': 'en_US', 'wp_id': 'f2bbf3eb-7bf0-4ee0-8ed8-cd1ee02b2608', 'token': '369518880%3A2%3A1719075107%3AcbCP3ZM2Xop4cdg3oD194g3PnZ6gJ_IPu3kKnMMm7iyEeghAUSdumpQ8mfhMRNoH'}\n",
      "fc cookies {'usprivacy': '', 'lang': '34', 'locale': 'en_US', 'wp_id': 'f2bbf3eb-7bf0-4ee0-8ed8-cd1ee02b2608', 'token': '369518880%3A2%3A1719075107%3AcbCP3ZM2Xop4cdg3oD194g3PnZ6gJ_IPu3kKnMMm7iyEeghAUSdumpQ8mfhMRNoH'}\n",
      "fc cookies {'usprivacy': '', 'lang': '34', 'locale': 'en_US', 'wp_id': 'f2bbf3eb-7bf0-4ee0-8ed8-cd1ee02b2608', 'token': '369518880%3A2%3A1719075107%3AcbCP3ZM2Xop4cdg3oD194g3PnZ6gJ_IPu3kKnMMm7iyEeghAUSdumpQ8mfhMRNoH'}\n",
      "fc cookies {'usprivacy': '', 'lang': '34', 'locale': 'en_US', 'wp_id': 'f2bbf3eb-7bf0-4ee0-8ed8-cd1ee02b2608', 'token': '369518880%3A2%3A1719075107%3AcbCP3ZM2Xop4cdg3oD194g3PnZ6gJ_IPu3kKnMMm7iyEeghAUSdumpQ8mfhMRNoH'}\n",
      "fc cookies {'usprivacy': '', 'lang': '34', 'locale': 'en_US', 'wp_id': 'f2bbf3eb-7bf0-4ee0-8ed8-cd1ee02b2608', 'token': '369518880%3A2%3A1719075107%3AcbCP3ZM2Xop4cdg3oD194g3PnZ6gJ_IPu3kKnMMm7iyEeghAUSdumpQ8mfhMRNoH'}\n",
      "fc cookies {'usprivacy': '', 'lang': '34', 'locale': 'en_US', 'wp_id': 'f2bbf3eb-7bf0-4ee0-8ed8-cd1ee02b2608', 'token': '369518880%3A2%3A1719075107%3AcbCP3ZM2Xop4cdg3oD194g3PnZ6gJ_IPu3kKnMMm7iyEeghAUSdumpQ8mfhMRNoH'}\n",
      "fc cookies {'usprivacy': '', 'lang': '34', 'locale': 'en_US', 'wp_id': 'f2bbf3eb-7bf0-4ee0-8ed8-cd1ee02b2608', 'token': '369518880%3A2%3A1719075107%3AcbCP3ZM2Xop4cdg3oD194g3PnZ6gJ_IPu3kKnMMm7iyEeghAUSdumpQ8mfhMRNoH'}\n",
      "fc cookies {'usprivacy': '', 'lang': '34', 'locale': 'en_US', 'wp_id': 'f2bbf3eb-7bf0-4ee0-8ed8-cd1ee02b2608', 'token': '369518880%3A2%3A1719075107%3AcbCP3ZM2Xop4cdg3oD194g3PnZ6gJ_IPu3kKnMMm7iyEeghAUSdumpQ8mfhMRNoH'}\n",
      "fc cookies {'usprivacy': '', 'lang': '34', 'locale': 'en_US', 'wp_id': 'f2bbf3eb-7bf0-4ee0-8ed8-cd1ee02b2608', 'token': '369518880%3A2%3A1719075107%3AcbCP3ZM2Xop4cdg3oD194g3PnZ6gJ_IPu3kKnMMm7iyEeghAUSdumpQ8mfhMRNoH'}\n",
      "fc cookies {'usprivacy': '', 'lang': '34', 'locale': 'en_US', 'wp_id': 'f2bbf3eb-7bf0-4ee0-8ed8-cd1ee02b2608', 'token': '369518880%3A2%3A1719075107%3AcbCP3ZM2Xop4cdg3oD194g3PnZ6gJ_IPu3kKnMMm7iyEeghAUSdumpQ8mfhMRNoH'}\n",
      "fc cookies {'usprivacy': '', 'lang': '34', 'locale': 'en_US', 'wp_id': 'f2bbf3eb-7bf0-4ee0-8ed8-cd1ee02b2608', 'token': '369518880%3A2%3A1719075107%3AcbCP3ZM2Xop4cdg3oD194g3PnZ6gJ_IPu3kKnMMm7iyEeghAUSdumpQ8mfhMRNoH'}\n"
     ]
    }
   ],
   "source": [
    "import os\n",
    "\n",
    "data = await retrieve_story(story_id, cookies=cookies)\n",
    "book = epub.EpubBook()\n",
    "\n",
    "# Metadata and Cover are updated\n",
    "set_metadata(book, data)\n",
    "await set_cover(book, data)\n",
    "print(\"Metadata Downloaded\")\n",
    "\n",
    "# Chapters are downloaded\n",
    "async for title in add_chapters(book, data, cookies=cookies):\n",
    "    # print(f\"Part ({title}) downloaded\")\n",
    "    ...\n",
    "\n",
    "epub.write_epub(f'{slugify(data[\"title\"])}_{story_id}.epub', book, {})\n"
   ]
  },
  {
   "cell_type": "code",
   "execution_count": 19,
   "metadata": {},
   "outputs": [
    {
     "data": {
      "text/plain": [
       "{'usprivacy': '',\n",
       " 'lang': '34',\n",
       " 'locale': 'en_US',\n",
       " 'wp_id': 'f2bbf3eb-7bf0-4ee0-8ed8-cd1ee02b2608',\n",
       " 'token': '369518880%3A2%3A1719075107%3AcbCP3ZM2Xop4cdg3oD194g3PnZ6gJ_IPu3kKnMMm7iyEeghAUSdumpQ8mfhMRNoH'}"
      ]
     },
     "execution_count": 19,
     "metadata": {},
     "output_type": "execute_result"
    }
   ],
   "source": [
    "cookies"
   ]
  },
  {
   "cell_type": "code",
   "execution_count": 23,
   "metadata": {},
   "outputs": [
    {
     "name": "stdout",
     "output_type": "stream",
     "text": [
      "{\n",
      "  \"cookies\": {\n",
      "    \"lang\": \"34\", \n",
      "    \"locale\": \"en_US\", \n",
      "    \"token\": \"369518880%3A2%3A1719075107%3AcbCP3ZM2Xop4cdg3oD194g3PnZ6gJ_IPu3kKnMMm7iyEeghAUSdumpQ8mfhMRNoH\", \n",
      "    \"usprivacy\": \"\", \n",
      "    \"wp_id\": \"f2bbf3eb-7bf0-4ee0-8ed8-cd1ee02b2608\"\n",
      "  }\n",
      "}\n",
      "\n"
     ]
    }
   ],
   "source": [
    "async with CachedSession(cache=cache, cookies=cookies) as session:\n",
    "    async with session.get(\"https://httpbin.org/cookies\") as response:\n",
    "        print(awaitresponse.text())"
   ]
  },
  {
   "cell_type": "code",
   "execution_count": null,
   "metadata": {},
   "outputs": [],
   "source": []
  }
 ],
 "metadata": {
  "kernelspec": {
   "display_name": "venv",
   "language": "python",
   "name": "python3"
  },
  "language_info": {
   "codemirror_mode": {
    "name": "ipython",
    "version": 3
   },
   "file_extension": ".py",
   "mimetype": "text/x-python",
   "name": "python",
   "nbconvert_exporter": "python",
   "pygments_lexer": "ipython3",
   "version": "3.10.11"
  }
 },
 "nbformat": 4,
 "nbformat_minor": 2
}
